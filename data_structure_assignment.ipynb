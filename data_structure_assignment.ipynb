{
  "nbformat": 4,
  "nbformat_minor": 0,
  "metadata": {
    "colab": {
      "provenance": []
    },
    "kernelspec": {
      "name": "python3",
      "display_name": "Python 3"
    },
    "language_info": {
      "name": "python"
    }
  },
  "cells": [
    {
      "cell_type": "markdown",
      "source": [
        "## **DATA STRUCTURE**\n",
        "# submitted by Akanksha Bhatt\n"
      ],
      "metadata": {
        "id": "dBEyVO2kK3_F"
      }
    },
    {
      "cell_type": "markdown",
      "source": [
        "Q 1 . discuss string slicing and provide examples.\n",
        "\n",
        "a . String slicing in Python is a way to get specific parts of a string by using start, end, and step values. It's especially useful for text manipulation and data parsing. The result of a slicing operation is always a string (str type) that contains a subset of the characters from the original string.Here are some examples ."
      ],
      "metadata": {
        "id": "jwWQ2gVWLbcX"
      }
    },
    {
      "cell_type": "code",
      "source": [
        "#string\n",
        "#Retrieve All Characters To retrieve the entire string\n",
        "\n",
        "s = \"Hello, World!\"\n",
        "\n",
        "# Get the entire string\n",
        "s2 = s[:]\n",
        "s3 = s[::]\n",
        "\n",
        "print(s2)\n",
        "print(s3)\n",
        "\n",
        "\n",
        "#Explanation: Using [:] or [::] without specifying start, end, or step returns the complete string.\n",
        "\n"
      ],
      "metadata": {
        "colab": {
          "base_uri": "https://localhost:8080/"
        },
        "id": "_IhapBpeL4tD",
        "outputId": "a4e17af8-f9bf-4661-b7fa-ab20d12e2296"
      },
      "execution_count": null,
      "outputs": [
        {
          "output_type": "stream",
          "name": "stdout",
          "text": [
            "Hello, World!\n",
            "Hello, World!\n"
          ]
        }
      ]
    },
    {
      "cell_type": "code",
      "source": [
        "##Get All Characters Before or After a Specific Position\n",
        "#To get all the items from a specific position to the end of the string, we can specify the start index and leave the end blank.And to get all the items before a specific index, we can specify the end index while leaving start blank.\n",
        "\n",
        "s = \"Hello, World!\"\n",
        "\n",
        "# Characters from index 7 to the end\n",
        "print(s[7:])\n",
        "\n",
        "# Characters from the start up to index 5 (exclusive)\n",
        "print(s[:5])\n",
        "\n",
        "\n",
        "#Explanation: The slice s[7:] starts from index 7 and continues to the end of the string."
      ],
      "metadata": {
        "colab": {
          "base_uri": "https://localhost:8080/"
        },
        "id": "0X5J6rWPNWUQ",
        "outputId": "7ad30eb4-0ad1-4550-fbad-3e6de6ad24b2"
      },
      "execution_count": null,
      "outputs": [
        {
          "output_type": "stream",
          "name": "stdout",
          "text": [
            "World!\n",
            "Hello\n"
          ]
        }
      ]
    },
    {
      "cell_type": "code",
      "source": [
        "#Extract Characters Between Two Positions\n",
        "\n",
        "#To extract characters between specific positions, provide both start and end indices.\n",
        "\n",
        "\n",
        "s = \"Hello, World!\"\n",
        "# Characters from index 1 to index 5 (excluding 5)\n",
        "print(s[1:5])"
      ],
      "metadata": {
        "colab": {
          "base_uri": "https://localhost:8080/"
        },
        "id": "O4FHL0lCNvsd",
        "outputId": "f4199da1-6140-48ca-ee47-00b200b37c1f"
      },
      "execution_count": null,
      "outputs": [
        {
          "output_type": "stream",
          "name": "stdout",
          "text": [
            "ello\n"
          ]
        }
      ]
    },
    {
      "cell_type": "code",
      "source": [
        "#Get Characters at Specific Intervals\n",
        "\n",
        "#To retrieve characters at regular intervals, use the step parameter.\n",
        "\n",
        "s = \"abcdefghi\"\n",
        "\n",
        "# Every second character\n",
        "\n",
        "print(s[::2])\n",
        "\n",
        "# Every third character from index 1 to 8 (exclusive)\n",
        "print(s[1:8:3])\n",
        "\n",
        "#Explanation: The slice s[::2] takes every second character from the string."
      ],
      "metadata": {
        "colab": {
          "base_uri": "https://localhost:8080/"
        },
        "id": "Y68YZqrGOCgC",
        "outputId": "21f30df2-388a-4b43-9918-b29aec1781c3"
      },
      "execution_count": null,
      "outputs": [
        {
          "output_type": "stream",
          "name": "stdout",
          "text": [
            "acegi\n",
            "beh\n"
          ]
        }
      ]
    },
    {
      "cell_type": "code",
      "source": [
        "#Extract Characters Using Negative Indices\n",
        "\n",
        "#Below example shows how to use negative numbers to access elements from the string starting from the end. Negative indexing makes it easy to get items without needing to know the exact length of the string.\n",
        "\n",
        "\n",
        "s = \"abaracadabara\"\n",
        "\n",
        "# Characters from index -4 to the end\n",
        "\n",
        "print(s[-4:])\n",
        "\n",
        "# Characters from the start up to index -3 (excluding -3)\n",
        "\n",
        "print(s[:-3])\n",
        "\n",
        "# Characters from index -5 to -2 (excluding -2)\n",
        "print(s[-5:-2])\n",
        "# Get every 2nd elements from index -8 to -1 (excluding index -1)\n",
        "\n",
        "print(s[-8:-1:2])\n"
      ],
      "metadata": {
        "colab": {
          "base_uri": "https://localhost:8080/"
        },
        "id": "h2xlN3--Okj2",
        "outputId": "abd8df6f-cf17-4874-adbb-58c5a87d7a71"
      },
      "execution_count": null,
      "outputs": [
        {
          "output_type": "stream",
          "name": "stdout",
          "text": [
            "bara\n",
            "abaracadab\n",
            "aba\n",
            "cdbr\n"
          ]
        }
      ]
    },
    {
      "cell_type": "code",
      "source": [
        "#Reverse a String Using Slicing\n",
        "\n",
        "#To reverse a string, use a negative step value of -1, which moves from the end of the string to the beginning.\n",
        "\n",
        "s = \"Python\"\n",
        "\n",
        "# Reverse the string\n",
        "\n",
        "print(s[::-1])"
      ],
      "metadata": {
        "colab": {
          "base_uri": "https://localhost:8080/"
        },
        "id": "tXBJQYY3O6bc",
        "outputId": "7e8662f8-c0e4-4496-c248-c4b16a643ed0"
      },
      "execution_count": null,
      "outputs": [
        {
          "output_type": "stream",
          "name": "stdout",
          "text": [
            "nohtyP\n"
          ]
        }
      ]
    },
    {
      "cell_type": "markdown",
      "source": [
        "Q 2 . Explain the key features of list in Python .\n",
        "\n",
        "A .In Python, a list is a built-in data structure that is used to store an ordered collection of items. Lists are mutable, meaning that their contents can be changed after the list has been created. They can hold a various of data types, including integers, floats, strings, and even other lists.\n",
        "\n",
        "Let’s take a quick example for Python list:\n",
        "\n",
        "\n",
        "\n",
        "\n"
      ],
      "metadata": {
        "id": "OuNl-8cpPMeT"
      }
    },
    {
      "cell_type": "code",
      "source": [
        "#Creating a List\n",
        "#We can create a list in Python using square brackets [] or by using the list() constructor. Here are some common methods to create a list:Using Square Brackets We can directly create a list by enclosing elements in square brackets.\n",
        "\n",
        "\n",
        "a = [1, 2, 3, 4, 5]\n",
        "\n",
        "\n",
        "# List of strings\n",
        "\n",
        "b = ['apple', 'banana', 'cherry']\n",
        "\n",
        "# Mixed data types\n",
        "\n",
        "c = [1, 'hello', 3.14, True]\n",
        "\n",
        "print(a)\n",
        "print(b)\n",
        "print(c)"
      ],
      "metadata": {
        "colab": {
          "base_uri": "https://localhost:8080/"
        },
        "id": "KVEvhaj3Qeg2",
        "outputId": "15f7d420-3eec-4291-9cc8-3c2d0204817c"
      },
      "execution_count": null,
      "outputs": [
        {
          "output_type": "stream",
          "name": "stdout",
          "text": [
            "[1, 2, 3, 4, 5]\n",
            "['apple', 'banana', 'cherry']\n",
            "[1, 'hello', 3.14, True]\n"
          ]
        }
      ]
    },
    {
      "cell_type": "code",
      "source": [
        "#Using the list() Constructor\n",
        "\n",
        "#We can also create a list by passing an iterable (like a string, tuple, or another list) to the list() function.\n",
        "\n",
        "# From a tuple\n",
        "a = list((1, 2, 3, 'apple', 4.5))\n",
        "\n",
        "print(a)\n"
      ],
      "metadata": {
        "colab": {
          "base_uri": "https://localhost:8080/"
        },
        "id": "VizkeZJtRGnj",
        "outputId": "d8a5f54c-7875-41f8-f0f9-9a3b9aa91f4f"
      },
      "execution_count": null,
      "outputs": [
        {
          "output_type": "stream",
          "name": "stdout",
          "text": [
            "[1, 2, 3, 'apple', 4.5]\n"
          ]
        }
      ]
    },
    {
      "cell_type": "code",
      "source": [
        "#Creating a List with Repeated Elements\n",
        "#We can create a list with repeated elements using the multiplication operator.\n",
        "\n",
        "# Create a list [2, 2, 2, 2, 2]\n",
        "\n",
        "a = [2] * 5\n",
        "\n",
        "# Create a list [0, 0, 0, 0, 0, 0, 0]\n",
        "\n",
        "b = [0] * 7\n",
        "\n",
        "print(a)\n",
        "print(b)"
      ],
      "metadata": {
        "colab": {
          "base_uri": "https://localhost:8080/"
        },
        "id": "lKZIubZBRSto",
        "outputId": "7908e9c1-a53d-4399-e526-fa4362be3660"
      },
      "execution_count": null,
      "outputs": [
        {
          "output_type": "stream",
          "name": "stdout",
          "text": [
            "[2, 2, 2, 2, 2]\n",
            "[0, 0, 0, 0, 0, 0, 0]\n"
          ]
        }
      ]
    },
    {
      "cell_type": "code",
      "source": [
        "#Accessing List Elements\n",
        "#Elements in a list can be accessed using indexing. Python indexes start at 0, so a[0] will access the first element, while negative indexing allows us to access elements from the end of the list. Like index -1 represents the last elements of list.\n",
        "\n",
        "a = [10, 20, 30, 40, 50]\n",
        "\n",
        "# Access first element\n",
        "\n",
        "print(a[0])\n",
        "\n",
        "# Access last element\n",
        "\n",
        "print(a[-1])"
      ],
      "metadata": {
        "colab": {
          "base_uri": "https://localhost:8080/"
        },
        "id": "LJrk7Ed8Rgrx",
        "outputId": "7a6be44c-e6a0-4638-bbc3-7a3219544d02"
      },
      "execution_count": null,
      "outputs": [
        {
          "output_type": "stream",
          "name": "stdout",
          "text": [
            "10\n",
            "50\n"
          ]
        }
      ]
    },
    {
      "cell_type": "code",
      "source": [
        "#Adding Elements into List\n",
        "#We can add elements to a list using the following methods:\n",
        "\n",
        "#append(): Adds an element at the end of the list.\n",
        "#extend(): Adds multiple elements to the end of the list.\n",
        "#insert(): Adds an element at a specific position.\n",
        "\n",
        "\n",
        "# Initialize an empty list\n",
        "\n",
        "a = []\n",
        "# Adding 10 to end of list\n",
        "\n",
        "a.append(10)\n",
        "\n",
        "print(\"After append(10):\", a)\n",
        "\n",
        "# Inserting 5 at index 0\n",
        "\n",
        "a.insert(0, 5)\n",
        "print(\"After insert(0, 5):\", a)\n",
        "\n",
        "# Adding multiple elements  [15, 20, 25] at the end\n",
        "\n",
        "a.extend([15, 20, 25])\n",
        "\n",
        "print(\"After extend([15, 20, 25]):\", a)"
      ],
      "metadata": {
        "colab": {
          "base_uri": "https://localhost:8080/"
        },
        "id": "RdXOU1oKRneg",
        "outputId": "a2d4429b-da3a-428a-b56c-35d9681d93e2"
      },
      "execution_count": null,
      "outputs": [
        {
          "output_type": "stream",
          "name": "stdout",
          "text": [
            "After append(10): [10]\n",
            "After insert(0, 5): [5, 10]\n",
            "After extend([15, 20, 25]): [5, 10, 15, 20, 25]\n"
          ]
        }
      ]
    },
    {
      "cell_type": "code",
      "source": [
        "#Updating Elements into List\n",
        "#We can change the value of an element by accessing it using its index.\n",
        "\n",
        "\n",
        "a = [10, 20, 30, 40, 50]\n",
        "\n",
        "# Change the second element\n",
        "\n",
        "a[1] = 25\n",
        "\n",
        "print(a)"
      ],
      "metadata": {
        "colab": {
          "base_uri": "https://localhost:8080/"
        },
        "id": "7ig4Ek1PR4Z2",
        "outputId": "4372066c-9e6d-4921-b703-ab2a5fd88857"
      },
      "execution_count": null,
      "outputs": [
        {
          "output_type": "stream",
          "name": "stdout",
          "text": [
            "[10, 25, 30, 40, 50]\n"
          ]
        }
      ]
    },
    {
      "cell_type": "code",
      "source": [
        "#Removing Elements from List\n",
        "#We can remove elements from a list using:\n",
        "\n",
        "#remove(): Removes the first occurrence of an element.\n",
        "#pop(): Removes the element at a specific index or the last element if no index is specified.\n",
        "#del statement: Deletes an element at a specified index.\n",
        "\n",
        "\n",
        "a = [10, 20, 30, 40, 50]\n",
        "\n",
        "# Removes the first occurrence of 30\n",
        "\n",
        "a.remove(30)\n",
        "\n",
        "print(\"After remove(30):\", a)\n",
        "\n",
        "# Removes the element at index 1 (20)\n",
        "\n",
        "popped_val = a.pop(1)\n",
        "\n",
        "print(\"Popped element:\", popped_val)\n",
        "\n",
        "print(\"After pop(1):\", a)\n",
        "\n",
        "# Deletes the first element (10)\n",
        "\n",
        "del a[0]\n",
        "\n",
        "print(\"After del a[0]:\", a)"
      ],
      "metadata": {
        "colab": {
          "base_uri": "https://localhost:8080/"
        },
        "id": "ZX8uik_rSTVX",
        "outputId": "f1de3991-f4ec-40c4-a785-488aafaa8738"
      },
      "execution_count": null,
      "outputs": [
        {
          "output_type": "stream",
          "name": "stdout",
          "text": [
            "After remove(30): [10, 20, 40, 50]\n",
            "Popped element: 20\n",
            "After pop(1): [10, 40, 50]\n",
            "After del a[0]: [40, 50]\n"
          ]
        }
      ]
    },
    {
      "cell_type": "code",
      "source": [
        "#Iterating Over Lists\n",
        "#We can iterate the Lists easily by using a for loop or other iteration methods. Iterating over lists is useful when we want to do some operation on each item or access specific items based on certain conditions. Let’s take an example to iterate over the list using for loop. Using for Loop\n",
        "\n",
        "a = ['apple', 'banana', 'cherry']\n",
        "\n",
        "# Iterating over the list\n",
        "\n",
        "for item in a:\n",
        "\n",
        "    print(item)"
      ],
      "metadata": {
        "colab": {
          "base_uri": "https://localhost:8080/"
        },
        "id": "i-rvnSopSq8_",
        "outputId": "882b69d8-49f5-4306-ff6e-dc7bb11be191"
      },
      "execution_count": null,
      "outputs": [
        {
          "output_type": "stream",
          "name": "stdout",
          "text": [
            "apple\n",
            "banana\n",
            "cherry\n"
          ]
        }
      ]
    },
    {
      "cell_type": "markdown",
      "source": [
        "Q 3. Describe how to accesss , modify and delete elements in a list with examples .\n",
        "\n",
        "A . List items are indexed and you can access them by referring to the index number: . the first item will always have 0 as index number .\n"
      ],
      "metadata": {
        "id": "RHUuyozvU8ZI"
      }
    },
    {
      "cell_type": "code",
      "source": [
        "#Print the second item of the list:\n",
        "\n",
        "thislist = [\"apple\", \"banana\", \"cherry\"]\n",
        "print(thislist[1])\n"
      ],
      "metadata": {
        "colab": {
          "base_uri": "https://localhost:8080/"
        },
        "id": "UCkBLjo5S37I",
        "outputId": "5101a0c9-4a56-4bab-89d6-af3b166a4a90"
      },
      "execution_count": null,
      "outputs": [
        {
          "output_type": "stream",
          "name": "stdout",
          "text": [
            "banana\n"
          ]
        }
      ]
    },
    {
      "cell_type": "code",
      "source": [
        "#Negative Indexing\n",
        "#Negative indexing means start from the end -1 refers to the last item, -2 refers to the second last item etc.\n",
        "\n",
        "#Print the last item of the list:\n",
        "\n",
        "thislist = [\"apple\", \"banana\", \"cherry\"]\n",
        "print(thislist[-1])"
      ],
      "metadata": {
        "colab": {
          "base_uri": "https://localhost:8080/"
        },
        "id": "e5MmMsBDVwAi",
        "outputId": "50ee15a4-4269-469d-ae33-d9ec29136093"
      },
      "execution_count": null,
      "outputs": [
        {
          "output_type": "stream",
          "name": "stdout",
          "text": [
            "cherry\n"
          ]
        }
      ]
    },
    {
      "cell_type": "code",
      "source": [
        "#Range of Indexes\n",
        "#You can specify a range of indexes by specifying where to start and where to end the range. When specifying a range, the return value will be a new list with the specified items.\n",
        "\n",
        "#Return the third, fourth, and fifth item:\n",
        "\n",
        "thislist = [\"apple\", \"banana\", \"cherry\", \"orange\", \"kiwi\", \"melon\", \"mango\"]\n",
        "print(thislist[2:5])"
      ],
      "metadata": {
        "colab": {
          "base_uri": "https://localhost:8080/"
        },
        "id": "4CrK371XV7y5",
        "outputId": "6ca0a247-10d1-4ddc-f918-1f640061e0fc"
      },
      "execution_count": null,
      "outputs": [
        {
          "output_type": "stream",
          "name": "stdout",
          "text": [
            "['cherry', 'orange', 'kiwi']\n"
          ]
        }
      ]
    },
    {
      "cell_type": "code",
      "source": [
        "#Change Item Value\n",
        "#To change the value of a specific item, refer to the index number:\n",
        "\n",
        "#Change the second item:\n",
        "\n",
        "thislist = [\"apple\", \"banana\", \"cherry\"]\n",
        "thislist[1] = \"blackcurrant\"\n",
        "print(thislist)"
      ],
      "metadata": {
        "colab": {
          "base_uri": "https://localhost:8080/"
        },
        "id": "tg_iW9iFWKaV",
        "outputId": "654f2790-b11a-4c93-86cd-bb2cf675faf2"
      },
      "execution_count": null,
      "outputs": [
        {
          "output_type": "stream",
          "name": "stdout",
          "text": [
            "['apple', 'blackcurrant', 'cherry']\n"
          ]
        }
      ]
    },
    {
      "cell_type": "code",
      "source": [
        "#Change a Range of Item Values\n",
        "#To change the value of items within a specific range, define a list with the new values, and refer to the range of index numbers where you want to insert the new values:\n",
        "\n",
        "#Change the values \"banana\" and \"cherry\" with the values \"blackcurrant\" and \"watermelon\":\n",
        "\n",
        "thislist = [\"apple\", \"banana\", \"cherry\", \"orange\", \"kiwi\", \"mango\"]\n",
        "thislist[1:3] = [\"blackcurrant\", \"watermelon\"]\n",
        "print(thislist)"
      ],
      "metadata": {
        "colab": {
          "base_uri": "https://localhost:8080/"
        },
        "id": "WnwcQVRDWd-8",
        "outputId": "dc99419a-eb1a-450c-feca-fb6b9663f0ec"
      },
      "execution_count": null,
      "outputs": [
        {
          "output_type": "stream",
          "name": "stdout",
          "text": [
            "['apple', 'blackcurrant', 'watermelon', 'orange', 'kiwi', 'mango']\n"
          ]
        }
      ]
    },
    {
      "cell_type": "code",
      "source": [
        "#Insert Items\n",
        "#To insert a new list item, without replacing any of the existing values, we can use the insert() method.\n",
        "\n",
        "#The insert() method inserts an item at the specified index:\n",
        "\n",
        "#Insert \"watermelon\" as the third item:\n",
        "\n",
        "thislist = [\"apple\", \"banana\", \"cherry\"]\n",
        "thislist.insert(2, \"watermelon\")\n",
        "print(thislist)\n",
        "\n",
        "\n",
        "#Note: As a result of the example above, the list will now contain 4 items."
      ],
      "metadata": {
        "colab": {
          "base_uri": "https://localhost:8080/"
        },
        "id": "7tPkN9aTWrb3",
        "outputId": "dc91bd31-8ba5-4cb6-d773-c2f40391a6e2"
      },
      "execution_count": null,
      "outputs": [
        {
          "output_type": "stream",
          "name": "stdout",
          "text": [
            "['apple', 'banana', 'watermelon', 'cherry']\n"
          ]
        }
      ]
    },
    {
      "cell_type": "code",
      "source": [
        "#Adding Elements into List\n",
        "#We can add elements to a list using the following methods:\n",
        "\n",
        "#append(): Adds an element at the end of the list.\n",
        "#extend(): Adds multiple elements to the end of the list.\n",
        "#insert(): Adds an element at a specific position.\n",
        "\n",
        "\n",
        "# Initialize an empty list\n",
        "\n",
        "a = []\n",
        "# Adding 10 to end of list\n",
        "\n",
        "a.append(10)\n",
        "\n",
        "print(\"After append(10):\", a)\n",
        "\n",
        "# Inserting 5 at index 0\n",
        "\n",
        "a.insert(0, 5)\n",
        "print(\"After insert(0, 5):\", a)\n",
        "\n",
        "# Adding multiple elements  [15, 20, 25] at the end\n",
        "\n",
        "a.extend([15, 20, 25])\n",
        "\n",
        "print(\"After extend([15, 20, 25]):\", a)"
      ],
      "metadata": {
        "colab": {
          "base_uri": "https://localhost:8080/"
        },
        "id": "yBhrvxebXReI",
        "outputId": "89535c3d-91ef-49e6-dc93-2a4f31b39ce4"
      },
      "execution_count": null,
      "outputs": [
        {
          "output_type": "stream",
          "name": "stdout",
          "text": [
            "After append(10): [10]\n",
            "After insert(0, 5): [5, 10]\n",
            "After extend([15, 20, 25]): [5, 10, 15, 20, 25]\n"
          ]
        }
      ]
    },
    {
      "cell_type": "code",
      "source": [
        "#Removing Elements from List\n",
        "#We can remove elements from a list using:\n",
        "\n",
        "#remove(): Removes the first occurrence of an element.\n",
        "#pop(): Removes the element at a specific index or the last element if no index is specified.\n",
        "#del statement: Deletes an element at a specified index.\n",
        "\n",
        "\n",
        "a = [10, 20, 30, 40, 50]\n",
        "\n",
        "# Removes the first occurrence of 30\n",
        "\n",
        "a.remove(30)\n",
        "\n",
        "print(\"After remove(30):\", a)\n",
        "\n",
        "# Removes the element at index 1 (20)\n",
        "\n",
        "popped_val = a.pop(1)\n",
        "\n",
        "print(\"Popped element:\", popped_val)\n",
        "\n",
        "print(\"After pop(1):\", a)\n",
        "\n",
        "# Deletes the first element (10)\n",
        "\n",
        "del a[0]\n",
        "\n",
        "print(\"After del a[0]:\", a)"
      ],
      "metadata": {
        "colab": {
          "base_uri": "https://localhost:8080/"
        },
        "id": "-57TKRr6Xl1P",
        "outputId": "b4271392-c6f8-43dc-8261-7444c9f85df0"
      },
      "execution_count": null,
      "outputs": [
        {
          "output_type": "stream",
          "name": "stdout",
          "text": [
            "After remove(30): [10, 20, 40, 50]\n",
            "Popped element: 20\n",
            "After pop(1): [10, 40, 50]\n",
            "After del a[0]: [40, 50]\n"
          ]
        }
      ]
    },
    {
      "cell_type": "markdown",
      "source": [
        "Q 4 .Compare and contrast tuples and lists with examples .\n",
        "\n",
        "A .\n",
        "**Lists**\n",
        "\n",
        "\n",
        "*   Lists are mutable\n",
        "*   The implication of iterations is     Time-consuming.\n",
        "\n",
        "*   The list is better for performing operations, such as insertion and deletion.\n",
        "*  list consume more energy .\n",
        "\n",
        "**Tuples**\n",
        "\n",
        "\n",
        "*   The implication of iterations is comparatively Faster .\n",
        "\n",
        "*   A Tuple data type is appropriate for accessing the elements.\n",
        "*   Tuple consumes less memory as compared to the list .\n",
        "\n",
        "\n",
        "*  Tuple does not have many built-in methods.\n",
        "\n",
        "\n",
        "\n"
      ],
      "metadata": {
        "id": "I32QmCaiYua0"
      }
    },
    {
      "cell_type": "code",
      "source": [
        "#Python List vs Python Tuple\n",
        "\n",
        "#Here we are going to compare the list and tuple mutability tests.\n",
        "\n",
        "\n",
        "# Creating a List with\n",
        "\n",
        "# the use of Numbers\n",
        "\n",
        "# code to test that tuples are mutable\n",
        "\n",
        "List = [1, 2, 4, 4, 3, 3, 3, 6, 5]\n",
        "\n",
        "print(\"Original list \", List)\n",
        "\n",
        "List[3] = 77\n",
        "\n",
        "print(\"Example to show mutability \", List)"
      ],
      "metadata": {
        "colab": {
          "base_uri": "https://localhost:8080/"
        },
        "id": "mt-Nk-NpYXNj",
        "outputId": "969c85ff-89fa-4da0-c445-ee85768f95c1"
      },
      "execution_count": null,
      "outputs": [
        {
          "output_type": "stream",
          "name": "stdout",
          "text": [
            "Original list  [1, 2, 4, 4, 3, 3, 3, 6, 5]\n",
            "Example to show mutability  [1, 2, 4, 77, 3, 3, 3, 6, 5]\n"
          ]
        }
      ]
    },
    {
      "cell_type": "code",
      "source": [
        "#Mutable List vs. Immutable Tuples\n",
        "#In Python, both lists and tuples support a range of operations, including indexing, slicing, concatenation, and more. However, there are some differences between the operations that are available for lists and tuples due to their mutability and immutability, respectively.\n",
        "\n",
        "#Python Indexing\n",
        "\n",
        " #Both lists and tuples allow you to access individual elements using their index, starting from 0.\n",
        "\n",
        "\n",
        "my_list = [1, 2, 3]\n",
        "\n",
        "my_tuple = (4, 5, 6)\n",
        "\n",
        "print(my_list[0]) # Output: 1\n",
        "5\n",
        "print(my_tuple[1]) # Output: 5"
      ],
      "metadata": {
        "colab": {
          "base_uri": "https://localhost:8080/"
        },
        "id": "Q7QTxuHtbZcv",
        "outputId": "110d0676-96e2-4b58-c1a1-5a166b3bc000"
      },
      "execution_count": null,
      "outputs": [
        {
          "output_type": "stream",
          "name": "stdout",
          "text": [
            "1\n",
            "5\n"
          ]
        }
      ]
    },
    {
      "cell_type": "code",
      "source": [
        "#Python Concatenation\n",
        "\n",
        "#Both lists and tuples can be concatenated using the “+” operator.\n",
        "\n",
        "list1 = [1, 2, 3]\n",
        "list2 = [4, 5, 6]\n",
        "\n",
        "tuple1 = (7, 8, 9)\n",
        "tuple2 = (10, 11, 12)\n",
        "\n",
        "print(list1 + list2) # Output: [1, 2, 3, 4, 5, 6]\n",
        "print(tuple1 + tuple2) # Output: (7, 8, 9, 10, 11, 12)"
      ],
      "metadata": {
        "colab": {
          "base_uri": "https://localhost:8080/"
        },
        "id": "spbZB82rcC8w",
        "outputId": "38754485-7e18-45be-883d-602cd7a89fe8"
      },
      "execution_count": null,
      "outputs": [
        {
          "output_type": "stream",
          "name": "stdout",
          "text": [
            "[1, 2, 3, 4, 5, 6]\n",
            "(7, 8, 9, 10, 11, 12)\n"
          ]
        }
      ]
    },
    {
      "cell_type": "markdown",
      "source": [
        "Q 5 . Describe the key features of sets and provide examples of their use .\n",
        "\n",
        "A. A Set in Python programming is an unordered collection data type that is iterable and has no duplicate elements. While sets are mutable, meaning you can add or remove elements after their creation, the individual elements within the set must be immutable and cannot be changed directly.\n"
      ],
      "metadata": {
        "id": "qh65lgudceYb"
      }
    },
    {
      "cell_type": "code",
      "source": [
        "#example of sets in python\n",
        "\n",
        "var = {\"Geeks\", \"for\", \"Geeks\"}\n",
        "type(var)"
      ],
      "metadata": {
        "colab": {
          "base_uri": "https://localhost:8080/"
        },
        "id": "4rVPadpJDDHA",
        "outputId": "36df1225-b04a-4ed0-db1a-b535ca29fb58"
      },
      "execution_count": null,
      "outputs": [
        {
          "output_type": "execute_result",
          "data": {
            "text/plain": [
              "set"
            ]
          },
          "metadata": {},
          "execution_count": 1
        }
      ]
    },
    {
      "cell_type": "code",
      "source": [
        "#Check unique and  Immutable with Python Set\n",
        "\n",
        "# Python program to demonstrate that\n",
        "# a set cannot have duplicate values\n",
        "# and we cannot change its items\n",
        "\n",
        "# a set cannot have duplicate values\n",
        "myset = {\"Geeks\", \"for\", \"Geeks\"}\n",
        "print(myset)\n",
        "\n",
        "# values of a set cannot be changed\n",
        "myset[1] = \"Hello\"\n",
        "print(myset]\n",
        "\n",
        "\n",
        "\n",
        "      #insight: The first code explains that the set cannot have a duplicate value. Every item in it is a unique value. The second code generates an error because we cannot assign or change a value once the set is created. We can only add or delete items in the set."
      ],
      "metadata": {
        "colab": {
          "base_uri": "https://localhost:8080/",
          "height": 105
        },
        "id": "ckLPnJ9mDM4m",
        "outputId": "8d17a1a6-a01e-42c9-c426-bf8174653a5f"
      },
      "execution_count": null,
      "outputs": [
        {
          "output_type": "error",
          "ename": "SyntaxError",
          "evalue": "closing parenthesis ']' does not match opening parenthesis '(' (<ipython-input-3-fc4af43b9bdb>, line 13)",
          "traceback": [
            "\u001b[0;36m  File \u001b[0;32m\"<ipython-input-3-fc4af43b9bdb>\"\u001b[0;36m, line \u001b[0;32m13\u001b[0m\n\u001b[0;31m    print(myset]\u001b[0m\n\u001b[0m               ^\u001b[0m\n\u001b[0;31mSyntaxError\u001b[0m\u001b[0;31m:\u001b[0m closing parenthesis ']' does not match opening parenthesis '('\n"
          ]
        }
      ]
    },
    {
      "cell_type": "code",
      "source": [
        "#Heterogeneous Element with Python Set\n",
        "#Python sets can store heterogeneous elements in it, i.e., a set can store a mixture of string, integer, boolean, etc datatypes.\n",
        "\n",
        "myset = {\"Geeks\", \"for\", 10, 52.7, True}\n",
        "\n",
        "print(myset)\n"
      ],
      "metadata": {
        "id": "UVgLETH_cQEM",
        "colab": {
          "base_uri": "https://localhost:8080/"
        },
        "outputId": "0184eb97-076d-47fe-eeeb-882312f91b20"
      },
      "execution_count": 1,
      "outputs": [
        {
          "output_type": "stream",
          "name": "stdout",
          "text": [
            "{'for', True, 52.7, 'Geeks', 10}\n"
          ]
        }
      ]
    },
    {
      "cell_type": "code",
      "source": [
        "#Python Frozen Sets\n",
        "#Frozen sets in Python are immutable objects that only support methods and operators that produce a result without affecting the frozen set or sets to which they are applied. It can be done with frozenset() method in Python. While elements of a set can be modified at any time, elements of the frozen set remain the same after creation.\n",
        "\n",
        "\n",
        " #Python program to demonstrate differences between normal and frozen set\n",
        "\n",
        "# Same as {\"a\", \"b\",\"c\"}\n",
        "normal_set = set([\"a\", \"b\",\"c\"])\n",
        "\n",
        "print(\"Normal Set\")\n",
        "print(normal_set)\n",
        "\n",
        "# A frozen set\n",
        "frozen_set = frozenset([\"e\", \"f\", \"g\"])\n",
        "\n",
        "print(\"\\nFrozen Set\")\n",
        "print(frozen_set)\n",
        "\n",
        "# Uncommenting below line would cause error as we are trying to add element to a frozen set frozen_set.add(\"h\")"
      ],
      "metadata": {
        "id": "iz1AqV0VcnrK",
        "colab": {
          "base_uri": "https://localhost:8080/"
        },
        "outputId": "faf028dc-3b31-4e5a-919c-e76dc1cec2ee"
      },
      "execution_count": 2,
      "outputs": [
        {
          "output_type": "stream",
          "name": "stdout",
          "text": [
            "Normal Set\n",
            "{'c', 'a', 'b'}\n",
            "\n",
            "Frozen Set\n",
            "frozenset({'f', 'e', 'g'})\n"
          ]
        }
      ]
    },
    {
      "cell_type": "code",
      "source": [
        "#adding element\n",
        "\n",
        "\n",
        "\n",
        "list1= [1,2,3,4,5,\"Brinjal\" , \"apple\" , \"apple\" , \"Brinjal\"]\n",
        "s= set(list1)\n",
        "s"
      ],
      "metadata": {
        "id": "PcNInfHicw3S",
        "colab": {
          "base_uri": "https://localhost:8080/"
        },
        "outputId": "a11c4551-22e4-4be1-d3d2-e9b74be246e7"
      },
      "execution_count": 4,
      "outputs": [
        {
          "output_type": "execute_result",
          "data": {
            "text/plain": [
              "{1, 2, 3, 4, 5, 'Brinjal', 'apple'}"
            ]
          },
          "metadata": {},
          "execution_count": 4
        }
      ]
    },
    {
      "cell_type": "code",
      "source": [
        "s.add(100)\n",
        "s"
      ],
      "metadata": {
        "id": "fLWSS8gTijoG",
        "colab": {
          "base_uri": "https://localhost:8080/"
        },
        "outputId": "f1dc8efb-2fd5-4e7d-eeba-f9ac94ddfb87"
      },
      "execution_count": 10,
      "outputs": [
        {
          "output_type": "execute_result",
          "data": {
            "text/plain": [
              "{1, 100, 2, 3, 4, 5, 'Brinjal', 'apple'}"
            ]
          },
          "metadata": {},
          "execution_count": 10
        }
      ]
    },
    {
      "cell_type": "code",
      "source": [
        "s.pop()"
      ],
      "metadata": {
        "colab": {
          "base_uri": "https://localhost:8080/"
        },
        "id": "xwFlODTAjjd5",
        "outputId": "e21913e7-7d60-4f1a-9b0c-159f402835d7"
      },
      "execution_count": 11,
      "outputs": [
        {
          "output_type": "execute_result",
          "data": {
            "text/plain": [
              "1"
            ]
          },
          "metadata": {},
          "execution_count": 11
        }
      ]
    },
    {
      "cell_type": "code",
      "source": [
        "s.update(\"mango\")\n",
        "s\n",
        "\n",
        "#output will not be a single character"
      ],
      "metadata": {
        "colab": {
          "base_uri": "https://localhost:8080/"
        },
        "id": "ZJBcjxyCjoAY",
        "outputId": "7cd7bb0f-8c5a-4184-cb38-8c2ef2eff747"
      },
      "execution_count": 21,
      "outputs": [
        {
          "output_type": "execute_result",
          "data": {
            "text/plain": [
              "{100, 2, 5, 'a', 'apple', 'g', 'm', 'n', 'o'}"
            ]
          },
          "metadata": {},
          "execution_count": 21
        }
      ]
    },
    {
      "cell_type": "code",
      "source": [
        "s.update([\"mango\"])\n",
        "s\n",
        "\n",
        "#output is a single character"
      ],
      "metadata": {
        "colab": {
          "base_uri": "https://localhost:8080/"
        },
        "id": "R5U823K-jsNd",
        "outputId": "a1598769-8fdb-40b0-9eb2-242ae3f3360c"
      },
      "execution_count": 24,
      "outputs": [
        {
          "output_type": "execute_result",
          "data": {
            "text/plain": [
              "{100, 2, 5, 'a', 'apple', 'g', 'm', 'mango', 'n', 'o'}"
            ]
          },
          "metadata": {},
          "execution_count": 24
        }
      ]
    },
    {
      "cell_type": "code",
      "source": [
        "#Union operation on Python Sets\n",
        "\n",
        "#Two sets can be merged using union() function or | operator.\n",
        "#Both Hash Table values are accessed and traversed with merge operation perform on them to combine the elements,\n",
        "#at the same time duplicates are removed.\n",
        "\n",
        "#Python Program to demonstrate union of two sets\n",
        "\n",
        "people = {\"Jay\", \"Idrish\", \"Archil\"}\n",
        "vampires = {\"Karan\", \"Arjun\"}\n",
        "dracula = {\"Deepanshu\", \"Raju\"}\n",
        "\n",
        "# Union using union()\n",
        "# function\n",
        "population = people.union(vampires)\n",
        "\n",
        "print(\"Union using union() function\")\n",
        "print(population)\n",
        "\n",
        "# Union using \"|\"\n",
        "# operator\n",
        "population = people|dracula\n",
        "\n",
        "print(\"Union using '|' operator\")\n",
        "print(population)"
      ],
      "metadata": {
        "colab": {
          "base_uri": "https://localhost:8080/"
        },
        "id": "XzuwS61EkVYZ",
        "outputId": "94f1e090-b7c1-41b5-e02a-f311ffaab468"
      },
      "execution_count": 25,
      "outputs": [
        {
          "output_type": "stream",
          "name": "stdout",
          "text": [
            "Union using union() function\n",
            "{'Karan', 'Idrish', 'Archil', 'Arjun', 'Jay'}\n",
            "\n",
            "Union using '|' operator\n",
            "{'Deepanshu', 'Idrish', 'Archil', 'Raju', 'Jay'}\n"
          ]
        }
      ]
    },
    {
      "cell_type": "code",
      "source": [
        "#Intersection operation on Python Sets\n",
        "\n",
        "#This can be done through intersection() or & operator.\n",
        "#Common Elements are selected. They are similar to iteration over the Hash lists and combining the same values on both the Table.\n",
        "\n",
        "# Python program to demonstrate intersection of two sets\n",
        "\n",
        "set1 = set()\n",
        "set2 = set()\n",
        "\n",
        "for i in range(5):\n",
        "    set1.add(i)\n",
        "\n",
        "for i in range(3,9):\n",
        "    set2.add(i)\n",
        "\n",
        "# Intersection using\n",
        "# intersection() function\n",
        "set3 = set1.intersection(set2)\n",
        "\n",
        "print(\"Intersection using intersection() function\")\n",
        "print(set3)\n",
        "\n",
        "# Intersection using\n",
        "# \"&\" operator\n",
        "set3 = set1 & set2\n",
        "\n",
        "print(\"Intersection using '&' operator\")\n",
        "print(set3)"
      ],
      "metadata": {
        "colab": {
          "base_uri": "https://localhost:8080/"
        },
        "id": "6KidiQLqliS_",
        "outputId": "92868ba9-3006-4a79-d850-94ce59ffbd4c"
      },
      "execution_count": 26,
      "outputs": [
        {
          "output_type": "stream",
          "name": "stdout",
          "text": [
            "Intersection using intersection() function\n",
            "{3, 4}\n",
            "\n",
            "Intersection using '&' operator\n",
            "{3, 4}\n"
          ]
        }
      ]
    },
    {
      "cell_type": "code",
      "source": [
        "#Finding Differences of Sets in Python\n",
        "\n",
        "#To find differences between sets. Similar to finding differences in the linked list.\n",
        "#This is done through difference() or – operator.\n",
        "\n",
        "# Python program to demonstrate difference of two sets\n",
        "\n",
        "set1 = set()\n",
        "set2 = set()\n",
        "\n",
        "for i in range(5):\n",
        "    set1.add(i)\n",
        "\n",
        "for i in range(3,9):\n",
        "    set2.add(i)\n",
        "\n",
        "# Difference of two sets\n",
        "# using difference() function\n",
        "set3 = set1.difference(set2)\n",
        "\n",
        "print(\"Difference of two sets using difference() function\")\n",
        "print(set3)\n",
        "\n",
        "# Difference of two sets\n",
        "# using '-' operator\n",
        "set3 = set1 - set2\n",
        "\n",
        "print(\"Difference of two sets using '-' operator\")\n",
        "print(set3)"
      ],
      "metadata": {
        "colab": {
          "base_uri": "https://localhost:8080/"
        },
        "id": "v5mr5asklzYD",
        "outputId": "d9faabfe-4157-4a03-f940-166bab67acba"
      },
      "execution_count": 27,
      "outputs": [
        {
          "output_type": "stream",
          "name": "stdout",
          "text": [
            " Difference of two sets using difference() function\n",
            "{0, 1, 2}\n",
            "\n",
            "Difference of two sets using '-' operator\n",
            "{0, 1, 2}\n"
          ]
        }
      ]
    },
    {
      "cell_type": "markdown",
      "source": [
        "Q 6: Use case of sets and tuples in python programming ."
      ],
      "metadata": {
        "id": "a0_hL5T9mavO"
      }
    },
    {
      "cell_type": "code",
      "source": [
        "#Implementing All Functions in sets\n",
        "\n",
        "#In this example, a series of functions demonstrate common operations on sets in Python.\n",
        "#These include creating a set, adding and removing elements, clearing the set, performing set\n",
        "#union, intersection, difference, symmetric difference, subset, and superset operations.\n",
        "\n",
        "\n",
        "def create_set():\n",
        "\n",
        "    my_set = {1, 2, 3, 4, 5}\n",
        "\n",
        "    print(my_set)\n",
        "\n",
        "\n",
        "def add_element():\n",
        "\n",
        "    my_set = {1, 2, 3, 4, 5}\n",
        "\n",
        "    my_set.add(6)\n",
        "\n",
        "    print(my_set)\n",
        "\n",
        "\n",
        "\n",
        "def remove_element():\n",
        "\n",
        "    my_set = {1, 2, 3, 4, 5}\n",
        "\n",
        "    my_set.remove(3)\n",
        "    print(my_set)\n",
        "\n",
        "\n",
        "\n",
        "def clear_set():\n",
        "    my_set = {1, 2, 3, 4, 5}\n",
        "\n",
        "    my_set.clear()\n",
        "\n",
        "    print(my_set)\n",
        "\n",
        "\n",
        "\n",
        "def set_union():\n",
        "\n",
        "    set1 = {1, 2, 3}\n",
        "\n",
        "    set2 = {4, 5, 6}\n",
        "    my_set = set1.union(set2)\n",
        "\n",
        "    print(my_set)\n",
        "\n",
        "\n",
        "def set_intersection():\n",
        "\n",
        "    set1 = {1, 2, 3, 4, 5}\n",
        "    set2 = {4, 5, 6, 7, 8}\n",
        "    my_set = set1.intersection(set2)\n",
        "\n",
        "    print(my_set)\n",
        "\n",
        "def set_difference():\n",
        "\n",
        "    set1 = {1, 2, 3, 4, 5}\n",
        "\n",
        "    set2 = {4, 5, 6, 7, 8}\n",
        "    my_set = set1.difference(set2)\n",
        "\n",
        "    print(my_set)\n",
        "\n",
        "\n",
        "\n",
        "def set_symmetric_difference():\n",
        "\n",
        "    set1 = {1, 2, 3, 4, 5}\n",
        "\n",
        "    set2 = {4, 5, 6, 7, 8}\n",
        "\n",
        "    my_set = set1.symmetric_difference(set2)\n",
        "\n",
        "    print(my_set)\n",
        "\n",
        "\n",
        "\n",
        "def set_subset():\n",
        "\n",
        "    set1 = {1, 2, 3, 4, 5}\n",
        "    set2 = {2, 3, 4}\n",
        "\n",
        "    subset = set2.issubset(set1)\n",
        "    print(subset)\n",
        "\n",
        "\n",
        "\n",
        "def set_superset():\n",
        "\n",
        "    set1 = {1, 2, 3, 4, 5}\n",
        "    set2 = {2, 3, 4}\n",
        "\n",
        "    superset = set1.issuperset(set2)\n",
        "    print(superset)\n",
        "\n",
        "\n",
        "\n",
        "if __name__ == '__main__':\n",
        "\n",
        "    create_set()\n",
        "\n",
        "    add_element()\n",
        "\n",
        "    remove_element()\n",
        "\n",
        "    clear_set()\n",
        "\n",
        "    set_union()\n",
        "\n",
        "    set_intersection()\n",
        "\n",
        "    set_difference()\n",
        "\n",
        "    set_symmetric_difference()\n",
        "\n",
        "    set_subset()\n",
        "\n",
        "    set_superset()"
      ],
      "metadata": {
        "colab": {
          "base_uri": "https://localhost:8080/"
        },
        "id": "tP_wXuZimHXS",
        "outputId": "c285dcde-2923-4350-8890-674ef0633779"
      },
      "execution_count": 32,
      "outputs": [
        {
          "output_type": "stream",
          "name": "stdout",
          "text": [
            "{1, 2, 3, 4, 5}\n",
            "{1, 2, 3, 4, 5, 6}\n",
            "{1, 2, 4, 5}\n",
            "set()\n",
            "{1, 2, 3, 4, 5, 6}\n",
            "{4, 5}\n",
            "{1, 2, 3}\n",
            "{1, 2, 3, 6, 7, 8}\n",
            "True\n",
            "True\n"
          ]
        }
      ]
    },
    {
      "cell_type": "code",
      "source": [
        "#Python Program to Demonstrate use case of  Tuple.\n",
        "\n",
        "# Creating an empty Tuple\n",
        "Tuple1 = ()\n",
        "print(\"Initial empty Tuple: \")\n",
        "print(Tuple1)\n",
        "\n",
        "# Creating a Tuple\n",
        "# with the use of string\n",
        "Tuple1 = ('Geeks', 'For')\n",
        "print(\"Tuple with the use of String: \")\n",
        "print(Tuple1)\n",
        "\n",
        "# Creating a Tuple with\n",
        "# the use of list\n",
        "list1 = [1, 2, 4, 5, 6]\n",
        "print(\"Tuple using List: \")\n",
        "print(tuple(list1))\n",
        "\n",
        "# Creating a Tuple\n",
        "# with the use of built-in function\n",
        "Tuple1 = tuple('Geeks')\n",
        "print(\"Tuple with the use of function: \")\n",
        "print(Tuple1)\n",
        "\n",
        "## Creating a Tuple\n",
        "# with nested tuples\n",
        "Tuple1 = (0, 1, 2, 3)\n",
        "Tuple2 = ('python', 'geek')\n",
        "Tuple3 = (Tuple1, Tuple2)\n",
        "print(\"Tuple with nested tuples: \")\n",
        "print(Tuple3)\n",
        "\n",
        "# Creating a Tuple\n",
        "# with repetition\n",
        "Tuple1 = ('Geeks',) * 3\n",
        "print(\"Tuple with repetition: \")\n",
        "print(Tuple1)\n",
        "\n",
        "# Creating a Tuple\n",
        "# with the use of loop\n",
        "Tuple1 = ('Geeks')\n",
        "n = 5\n",
        "print(\"Tuple with a loop\")\n",
        "for i in range(int(n)):\n",
        "    Tuple1 = (Tuple1,)\n",
        "    print(Tuple1)\n",
        "\n",
        "\n",
        "# Concatenation of tuples\n",
        "Tuple1 = (0, 1, 2, 3)\n",
        "Tuple2 = ('Geeks', 'For', 'Geeks')\n",
        "\n",
        "Tuple3 = Tuple1 + Tuple2\n",
        "\n",
        "# Printing first Tuple\n",
        "print(\"Tuple 1: \")\n",
        "print(Tuple1)\n",
        "\n",
        "# Printing Second Tuple\n",
        "print(\"Tuple2: \")\n",
        "print(Tuple2)\n",
        "\n",
        "# Printing Final Tuple\n",
        "print(\"\\nTuples after Concatenation: \")\n",
        "print(Tuple3)\n",
        "\n",
        "\n"
      ],
      "metadata": {
        "colab": {
          "base_uri": "https://localhost:8080/"
        },
        "id": "ASdWZMwro0e7",
        "outputId": "ca72d37e-5866-4baf-d21b-06c128e79344"
      },
      "execution_count": 39,
      "outputs": [
        {
          "output_type": "stream",
          "name": "stdout",
          "text": [
            "Initial empty Tuple: \n",
            "()\n",
            "Tuple with the use of String: \n",
            "('Geeks', 'For')\n",
            "Tuple using List: \n",
            "(1, 2, 4, 5, 6)\n",
            "Tuple with the use of function: \n",
            "('G', 'e', 'e', 'k', 's')\n",
            "Tuple with nested tuples: \n",
            "((0, 1, 2, 3), ('python', 'geek'))\n",
            "Tuple with repetition: \n",
            "('Geeks', 'Geeks', 'Geeks')\n",
            "Tuple with a loop\n",
            "('Geeks',)\n",
            "(('Geeks',),)\n",
            "((('Geeks',),),)\n",
            "(((('Geeks',),),),)\n",
            "((((('Geeks',),),),),)\n",
            "Tuple 1: \n",
            "(0, 1, 2, 3)\n",
            "Tuple2: \n",
            "('Geeks', 'For', 'Geeks')\n",
            "\n",
            "Tuples after Concatenation: \n",
            "(0, 1, 2, 3, 'Geeks', 'For', 'Geeks')\n"
          ]
        }
      ]
    },
    {
      "cell_type": "markdown",
      "source": [
        "Q 7 : Add , modify and delete items in dictionary with examples .\n",
        "\n",
        "A . A Python dictionary is a data structure that stores the value in key: value pairs. Values in a dictionary can be of any data type and can be duplicated, whereas keys can’t be repeated and must be immutable."
      ],
      "metadata": {
        "id": "h7y4xfgnrOg4"
      }
    },
    {
      "cell_type": "code",
      "source": [
        "#creating a dictionary\n",
        "d1 = {'Name': 'Geeks', 1: [1, 2, 3, 4]}\n",
        "print(\"\\nDictionary with the use of Mixed Keys: \")\n",
        "print(d1)\n"
      ],
      "metadata": {
        "colab": {
          "base_uri": "https://localhost:8080/"
        },
        "id": "RpSDvmsGrlod",
        "outputId": "3519bc5a-3060-4a4e-9e77-35e65701c9bd"
      },
      "execution_count": 41,
      "outputs": [
        {
          "output_type": "stream",
          "name": "stdout",
          "text": [
            "\n",
            "Dictionary with the use of Mixed Keys: \n",
            "{'Name': 'Geeks', 1: [1, 2, 3, 4]}\n"
          ]
        }
      ]
    },
    {
      "cell_type": "code",
      "source": [
        "#Adding Elements to a Dictionary\n",
        "#The addition of elements can be done in multiple ways. One value at a time can be added to a Dictionary by defining value along with the key\n",
        "#e.g. Dict[Key] = ‘Value’.\n",
        "\n",
        "d = {}\n",
        "print(\"Empty Dictionary: \")\n",
        "print(d)\n",
        "\n",
        "d[0] = 'Geeks'\n",
        "d[2] = 'For'\n",
        "d[3] = 1\n",
        "print(\"\\nDictionary after adding 3 elements: \")\n",
        "print(d)\n",
        "\n",
        "d['Value_set'] = 2, 3, 4\n",
        "print(\"\\nDictionary after adding 3 elements: \")\n",
        "print(d)\n",
        "\n",
        "d[2] = 'Welcome'\n",
        "print(\"\\nUpdated key value: \")\n",
        "print(d)\n",
        "d[5] = {'Nested': {'1': 'Life', '2': 'Geeks'}}\n",
        "print(\"\\nAdding a Nested Key: \")\n",
        "print(d)\n"
      ],
      "metadata": {
        "colab": {
          "base_uri": "https://localhost:8080/"
        },
        "id": "OMmhZFktsPKw",
        "outputId": "9494f9af-14ef-45fd-975c-0e6533385c38"
      },
      "execution_count": 42,
      "outputs": [
        {
          "output_type": "stream",
          "name": "stdout",
          "text": [
            "Empty Dictionary: \n",
            "{}\n",
            "\n",
            "Dictionary after adding 3 elements: \n",
            "{0: 'Geeks', 2: 'For', 3: 1}\n",
            "\n",
            "Dictionary after adding 3 elements: \n",
            "{0: 'Geeks', 2: 'For', 3: 1, 'Value_set': (2, 3, 4)}\n",
            "\n",
            "Updated key value: \n",
            "{0: 'Geeks', 2: 'Welcome', 3: 1, 'Value_set': (2, 3, 4)}\n",
            "\n",
            "Adding a Nested Key: \n",
            "{0: 'Geeks', 2: 'Welcome', 3: 1, 'Value_set': (2, 3, 4), 5: {'Nested': {'1': 'Life', '2': 'Geeks'}}}\n"
          ]
        }
      ]
    },
    {
      "cell_type": "code",
      "source": [
        "#deleting element\n",
        "\n",
        "d = {1: 'Geeks', 'name': 'For', 3: 'Geeks'}\n",
        "\n",
        "print(\"Dictionary =\")\n",
        "print(d)\n",
        "del(d[1])\n",
        "print(\"Data after deletion Dictionary=\")\n",
        "print(d)"
      ],
      "metadata": {
        "colab": {
          "base_uri": "https://localhost:8080/"
        },
        "id": "oJS6ZXnAsrNl",
        "outputId": "fc0e2edf-d191-479b-9b10-99f387e0307c"
      },
      "execution_count": 43,
      "outputs": [
        {
          "output_type": "stream",
          "name": "stdout",
          "text": [
            "Dictionary =\n",
            "{1: 'Geeks', 'name': 'For', 3: 'Geeks'}\n",
            "Data after deletion Dictionary=\n",
            "{'name': 'For', 3: 'Geeks'}\n"
          ]
        }
      ]
    },
    {
      "cell_type": "markdown",
      "source": [
        "Q 8: Discuss the importance of dictionary keys being immutable and provide examples .\n",
        "\n",
        "A. Immutability is essential for keys because it ensures that the dictionary can efficiently look up values based on their keys. If a key was mutable, its hash value could change, making it impossible to find the associated value in the dictionary."
      ],
      "metadata": {
        "id": "_nmbTawDtbvz"
      }
    },
    {
      "cell_type": "code",
      "source": [
        "#immutable dictionary\n",
        "empid= {'Name': 'Geeks', 1: [1, 2, 3, 4]}\n",
        "print(\"\\nDictionary with the use of Mixed Keys: \")\n",
        "print(empid)\n",
        "\n",
        "\n",
        "#poping an element\n",
        "\n",
        "empid= {'Name': 'Geeks', 1: [1, 2, 3, 4]}\n",
        "print(\"\\nDictionary with the use of Mixed Keys: \")\n",
        " empid.add(3)\n",
        "print(empid)\n",
        "\n",
        "\n",
        "\n",
        "#element cannot be changed or poped because its immutable"
      ],
      "metadata": {
        "colab": {
          "base_uri": "https://localhost:8080/",
          "height": 105
        },
        "id": "ZAQXbvAEvRog",
        "outputId": "1c4704e2-62d2-4ed7-fd71-36f612d0ff4c"
      },
      "execution_count": 47,
      "outputs": [
        {
          "output_type": "error",
          "ename": "IndentationError",
          "evalue": "unexpected indent (<ipython-input-47-6542ef99b2c0>, line 11)",
          "traceback": [
            "\u001b[0;36m  File \u001b[0;32m\"<ipython-input-47-6542ef99b2c0>\"\u001b[0;36m, line \u001b[0;32m11\u001b[0m\n\u001b[0;31m    empid.add(3)\u001b[0m\n\u001b[0m    ^\u001b[0m\n\u001b[0;31mIndentationError\u001b[0m\u001b[0;31m:\u001b[0m unexpected indent\n"
          ]
        }
      ]
    },
    {
      "cell_type": "code",
      "source": [],
      "metadata": {
        "id": "xsWoEqoNvfgj"
      },
      "execution_count": null,
      "outputs": []
    }
  ]
}